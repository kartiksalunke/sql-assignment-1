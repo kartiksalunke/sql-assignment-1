{
 "cells": [
  {
   "cell_type": "markdown",
   "id": "27f08900-d220-44ba-bff6-c00833cc9e6f",
   "metadata": {},
   "source": [
    "Q1. What is a database? Differentiate between SQL and NoSQL databases.\n",
    "\n",
    "A database is an organized collection of structured or unstructured data that can be accessed, managed, and updated in a systematic way. Databases are used to store and manage data for various applications, ranging from small-scale personal applications to large-scale enterprise systems.\n",
    "\n",
    "SQL and NoSQL are two different types of databases that differ in their structure, data model, and query language:\n",
    "\n",
    "SQL databases: SQL stands for Structured Query Language, which is a language used to manage and manipulate relational databases. SQL databases store data in a structured manner, using tables with predefined columns and data types. Each table has a unique key, and the data is stored in rows that correspond to records in the table. SQL databases are highly structured and provide a high level of data integrity and consistency. Some examples of SQL databases include MySQL, Oracle, and PostgreSQL.\n",
    "\n",
    "NoSQL databases: NoSQL stands for \"not only SQL\", which means that NoSQL databases are not limited to SQL query language. NoSQL databases store data in a non-structured or semi-structured manner, using documents, key-value pairs, or graphs. NoSQL databases are highly scalable and can handle large volumes of data with ease. NoSQL databases provide greater flexibility and agility than SQL databases, but at the cost of reduced data integrity and consistency. Some examples of NoSQL databases include MongoDB, Cassandra, and Redis.\n",
    "\n",
    "In summary, SQL databases are highly structured, provide high data integrity and consistency, and use SQL as a query language. NoSQL databases are highly scalable, provide greater flexibility and agility, and use non-structured or semi-structured data models."
   ]
  },
  {
   "cell_type": "markdown",
   "id": "7dcb1986-4e44-42b0-a524-96737c149aca",
   "metadata": {},
   "source": [
    "Q2. What is DDL? Explain why CREATE, DROP, ALTER, and TRUNCATE are used with an example.\n",
    "\n",
    "DDL stands for Data Definition Language, which is a set of SQL commands used to create, modify, and delete database objects such as tables, indexes, and constraints. DDL is used to define the structure of a database and its objects.\n",
    "\n",
    "The following are some of the commonly used DDL commands and their usage:\n",
    "\n",
    "CREATE: The CREATE command is used to create a new database object such as a table, index, or view. For example, to create a new table named \"users\" with columns for user ID, name, and email address, we can use the following SQL statement: DROP: The DROP command is used to delete an existing database object such as a table, index, or view. For example, to delete the \"users\" table created above, we can use the following SQL statement: ALTER: The ALTER command is used to modify the structure of an existing database object such as a table or index. For example, to add a new column \"age\" to the \"users\" table created above, we can use the following SQL statement: TRUNCATE: The TRUNCATE command is used to delete all data from a table without deleting the table itself. For example, to delete all data from the \"users\" table created above, we can use the following SQL statement:"
   ]
  },
  {
   "cell_type": "markdown",
   "id": "6890e660-91ca-48f1-83a0-6d06b5274eaf",
   "metadata": {},
   "source": [
    "Q3. What is DML? Explain INSERT, UPDATE, and DELETE with an example.\n",
    "\n",
    "DML stands for Data Manipulation Language, which is a set of SQL commands used to insert, update, and delete data in a database table. DML commands are used to modify the data stored in a table.\n",
    "\n",
    "The following are some of the commonly used DML commands and their usage:\n",
    "\n",
    "INSERT: The INSERT command is used to insert new data into a table. For example, to insert a new row into the \"users\" table with ID 1, name \"John\", and email \"john@example.com\", we can use the following SQL statement: UPDATE: The UPDATE command is used to update existing data in a table. For example, to update the email address of the user with ID 1 to \"john.doe@example.com\", we can use the following SQL statement: sql DELETE: The DELETE command is used to delete data from a table. For example, to delete the user with ID 1 from the \"users\" table, we can use the following SQL statement:"
   ]
  },
  {
   "cell_type": "markdown",
   "id": "ab3f9c1d-9224-4e65-8d43-6ae03511dd48",
   "metadata": {},
   "source": [
    "Q4. What is DQL? Explain SELECT with an example.\n",
    "\n",
    "DQL stands for Data Query Language, which is a set of SQL commands used to retrieve data from a database table. DQL commands are used to query the data stored in a table.\n",
    "\n",
    "The most commonly used DQL command is SELECT. The SELECT command is used to retrieve data from one or more tables. Here's an example of how to use the SELECT command:"
   ]
  },
  {
   "cell_type": "markdown",
   "id": "274440cd-180a-4b99-87c4-03ed7b79a2f1",
   "metadata": {},
   "source": [
    "Q5. Explain Primary Key and Foreign Key.\n",
    "\n",
    "a primary key is a unique identifier for each row in a table. It is a column or combination of columns that uniquely identifies each record in a table. The primary key constraint ensures that the values in the primary key column(s) are unique and not null. For example, in a \"users\" table, the \"id\" column can be the primary key if each user has a unique ID number.\n",
    "\n",
    "A foreign key is a column or combination of columns in one table that refers to the primary key of another table. It establishes a relationship between two tables, where the values in the foreign key column(s) of one table match the values in the primary key column(s) of another table. For example, in a \"orders\" table, the \"user_id\" column can be a foreign key that refers to the \"id\" column of the \"users\" table, indicating which user placed each order."
   ]
  },
  {
   "cell_type": "markdown",
   "id": "e611559a-0f79-4472-b902-e1544b76f727",
   "metadata": {},
   "source": [
    "Q6. Write a python code to connect MySQL to python. Explain the cursor() and execute() method.\n",
    "The cursor() method in Python is used to create a cursor object, which allows us to execute SQL commands on the database. The cursor object provides methods to execute SQL commands, fetch data from the database, and handle transactions.\n",
    "\n",
    "The execute() method is used to execute SQL commands on the database using the cursor object. It takes an SQL query as its argument and returns the result of the query. For example, to execute a SELECT query on a MySQL database using the cursor object,\n",
    "\n",
    "Q7. Give the order of execution of SQL clauses in an SQL query.\n",
    "\n",
    "SELECT: Specifies the columns to be retrieved from the database table. FROM: Specifies the table from which to retrieve the data. JOIN: Combines multiple tables based on a common column. WHERE: Filters the data based on certain conditions. GROUP BY: Groups the data based on one or more"
   ]
  },
  {
   "cell_type": "code",
   "execution_count": 3,
   "id": "65243f6d-182f-4a7b-bc08-102e46758ef1",
   "metadata": {},
   "outputs": [
    {
     "ename": "ModuleNotFoundError",
     "evalue": "No module named 'mysql'",
     "output_type": "error",
     "traceback": [
      "\u001b[0;31m---------------------------------------------------------------------------\u001b[0m",
      "\u001b[0;31mModuleNotFoundError\u001b[0m                       Traceback (most recent call last)",
      "Cell \u001b[0;32mIn[3], line 1\u001b[0m\n\u001b[0;32m----> 1\u001b[0m \u001b[38;5;28;01mimport\u001b[39;00m \u001b[38;5;21;01mmysql\u001b[39;00m\u001b[38;5;21;01m.\u001b[39;00m\u001b[38;5;21;01mconnector\u001b[39;00m\n\u001b[1;32m      2\u001b[0m mydb \u001b[38;5;241m=\u001b[39m mysql\u001b[38;5;241m.\u001b[39mconnector\u001b[38;5;241m.\u001b[39mconnect(\n\u001b[1;32m      3\u001b[0m   host\u001b[38;5;241m=\u001b[39m\u001b[38;5;124m\"\u001b[39m\u001b[38;5;124mlocalhost\u001b[39m\u001b[38;5;124m\"\u001b[39m,\n\u001b[1;32m      4\u001b[0m   user\u001b[38;5;241m=\u001b[39m\u001b[38;5;124m\"\u001b[39m\u001b[38;5;124mabc\u001b[39m\u001b[38;5;124m\"\u001b[39m,\n\u001b[1;32m      5\u001b[0m   password\u001b[38;5;241m=\u001b[39m\u001b[38;5;124m\"\u001b[39m\u001b[38;5;124mpassword\u001b[39m\u001b[38;5;124m\"\u001b[39m\n\u001b[1;32m      6\u001b[0m )\n\u001b[1;32m      7\u001b[0m \u001b[38;5;28mprint\u001b[39m(mydb)\n",
      "\u001b[0;31mModuleNotFoundError\u001b[0m: No module named 'mysql'"
     ]
    }
   ],
   "source": [
    "import mysql.connector\n",
    "mydb = mysql.connector.connect(\n",
    "  host=\"localhost\",\n",
    "  user=\"abc\",\n",
    "  password=\"password\"\n",
    ")\n",
    "print(mydb)\n",
    "mycursor = mydb.cursor()\n",
    "mycursor.execute(\"show databases\")\n",
    "for x in mycursor:\n",
    "  print(x)"
   ]
  },
  {
   "cell_type": "code",
   "execution_count": null,
   "id": "6d557915-c087-4768-9048-a98e833767c6",
   "metadata": {},
   "outputs": [],
   "source": []
  }
 ],
 "metadata": {
  "kernelspec": {
   "display_name": "Python 3 (ipykernel)",
   "language": "python",
   "name": "python3"
  },
  "language_info": {
   "codemirror_mode": {
    "name": "ipython",
    "version": 3
   },
   "file_extension": ".py",
   "mimetype": "text/x-python",
   "name": "python",
   "nbconvert_exporter": "python",
   "pygments_lexer": "ipython3",
   "version": "3.10.8"
  }
 },
 "nbformat": 4,
 "nbformat_minor": 5
}
